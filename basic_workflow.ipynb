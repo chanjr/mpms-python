{
 "cells": [
  {
   "cell_type": "code",
   "execution_count": null,
   "id": "c0d67606",
   "metadata": {},
   "outputs": [],
   "source": [
    "import os\n",
    "import numpy as np\n",
    "import matplotlib as mpl\n",
    "import matplotlib.pyplot as plt\n",
    "import scipy.interpolate\n",
    "import scipy.optimize\n",
    "%matplotlib notebook"
   ]
  },
  {
   "cell_type": "code",
   "execution_count": null,
   "id": "2d156e76",
   "metadata": {},
   "outputs": [],
   "source": [
    "sorted(os.listdir('data/A344/dat'))"
   ]
  },
  {
   "cell_type": "code",
   "execution_count": null,
   "id": "873cdcbf",
   "metadata": {},
   "outputs": [],
   "source": [
    "# Using numpy to parse csv formatted data file)\n",
    "fc_data = np.genfromtxt('data/A344/dat/A344_GdN_FC_050_Oe_160908.rso.dat',\n",
    "                    delimiter = ',', skip_header = 30, names = True)"
   ]
  },
  {
   "cell_type": "code",
   "execution_count": null,
   "id": "7c0707fb",
   "metadata": {},
   "outputs": [],
   "source": [
    "# Column names taken from the data file\n",
    "fc_data.dtype.names"
   ]
  },
  {
   "cell_type": "code",
   "execution_count": null,
   "id": "7a37c37c",
   "metadata": {},
   "outputs": [],
   "source": [
    "# setting up figure with two axes to compare magnetic moment and inverse suscepbility\n",
    "fig1, (ax1a, ax1b) = plt.subplots(2, 1, sharex = True)\n",
    "fig1.set_size_inches(6, 8)\n",
    "ax1a.set_ylabel('Moment (emu)')\n",
    "ax1b.set_xlabel('Temperature (K)')\n",
    "ax1b.set_ylabel(r'1/$\\chi$ (Oe/emu)')\n",
    "ax1a.grid(True)\n",
    "ax1b.grid(True)\n",
    "ax1a.plot(fc_data['Temperature_K'], fc_data['Long_Moment_emu'], marker = '.')\n",
    "ax1b.plot(fc_data['Temperature_K'], fc_data['Field_Oe']/fc_data['Long_Moment_emu'], marker = '.')\n",
    "plt.tight_layout()\n",
    "plt.draw()"
   ]
  },
  {
   "cell_type": "code",
   "execution_count": null,
   "id": "70da956e",
   "metadata": {},
   "outputs": [],
   "source": [
    "fig2, ax2 = plt.subplots(1, 1)\n",
    "ax2.set_xlabel('Temperature (K)')\n",
    "ax2.set_ylabel('Long Reg Fit')\n",
    "ax2.grid(True)\n",
    "ax2.plot(fc_data['Temperature_K'], fc_data['Long_Reg_Fit'], marker = '.')"
   ]
  },
  {
   "cell_type": "code",
   "execution_count": null,
   "id": "68cd4832",
   "metadata": {},
   "outputs": [],
   "source": [
    "mh_data_5k = np.genfromtxt('data/A344/dat/A344_GdN_MH_005K_160905.rso.dat',\n",
    "                    delimiter = ',', skip_header = 30, names = True)"
   ]
  },
  {
   "cell_type": "code",
   "execution_count": null,
   "id": "cc8b13c3",
   "metadata": {},
   "outputs": [],
   "source": [
    "fig3, (ax3a, ax3b) = plt.subplots(1, 2, sharey = True)\n",
    "ax3a.set_xlabel('Field (Oe)')\n",
    "ax3b.set_xlabel('Field (Oe)')\n",
    "ax3a.set_ylabel('Moment (emu)')\n",
    "ax3a.grid(True)\n",
    "ax3b.grid(True)\n",
    "ax3a.plot(mh_data_5k['Field_Oe'], mh_data_5k['Long_Moment_emu'], marker = '.')\n",
    "ax3b.plot(mh_data_5k['Field_Oe'], mh_data_5k['Long_Moment_emu'], marker = '.')\n",
    "ax3b.set_xlim(-600, 600)\n",
    "plt.tight_layout()"
   ]
  },
  {
   "cell_type": "code",
   "execution_count": null,
   "id": "764a6d40",
   "metadata": {},
   "outputs": [],
   "source": [
    "fig4, ax4 = plt.subplots()\n",
    "ax4.plot(mh_data_5k['Field_Oe'], mh_data_5k['Long_Reg_Fit'])\n",
    "ax4.set_xlabel('Field (Oe)')\n",
    "ax4.set_ylabel('Long Reg Fit')\n",
    "plt.tight_layout()"
   ]
  },
  {
   "cell_type": "code",
   "execution_count": null,
   "id": "cd72f401",
   "metadata": {},
   "outputs": [],
   "source": [
    "# Sample details needed to convert from magnetic moment to magnetization (emu/cm^3 or mu_b/magnetic ion)\n",
    "# Substrate susceptibility used to subtract diamagnetic background contribution\n",
    "sample_mass              = 0.0105         # g\n",
    "substrate_thickness      = 0.028          # cm\n",
    "substrate_density        = 2.328          # g/cm^3\n",
    "substrate_susceptibility = -2.968e-07     # emu/Oe/cm^3, diamagnetic Si\n",
    "film_thickness           = 4.3e-6         # cm\n",
    "n_density                = 4/(4.98e-8)**3 # Gd/cm^3\n",
    "\n",
    "substrate_volume = sample_mass/substrate_density        # cm^3\n",
    "substrate_area   = substrate_volume/substrate_thickness # cm^2\n",
    "film_volume      = substrate_area * film_thickness      # cm^3\n",
    "n_gd             = n_density * film_volume              # atoms\n",
    "mu_b             = 9.724009994e-21                      # emu\n",
    "cf               = 1/(n_gd * mu_b)                      # mu_b/Gd/emu\n",
    "print(f'Number of Gd atoms in film: {n_gd:.2e}')"
   ]
  },
  {
   "cell_type": "code",
   "execution_count": null,
   "id": "50174e25",
   "metadata": {},
   "outputs": [],
   "source": [
    "# curie weiss with correction for constant moment offset\n",
    "k_B = 1.380649e-16 # erg/K\n",
    "mu_B = 9.274009994e-21 # erg/G, emu\n",
    "# gd ion\n",
    "g = 2\n",
    "J = 7/2\n",
    "mu_eff = mu_b * g * np.sqrt(J*(J + 1))\n",
    "print(mu_eff)"
   ]
  },
  {
   "cell_type": "code",
   "execution_count": null,
   "id": "194fd23e",
   "metadata": {},
   "outputs": [],
   "source": [
    "# setting up figure with two axes to compare magnetic moment and inverse suscepbility\n",
    "fig5, (ax5a, ax5b) = plt.subplots(2, 1, sharex = True)\n",
    "fig5.set_size_inches(6, 8)\n",
    "ax5a.set_ylabel('Moment (emu)')\n",
    "ax5b.set_xlabel('Temperature (K)')\n",
    "ax5b.set_ylabel(r'1/$\\chi$ (Oe/emu)')\n",
    "ax5a.grid(True)\n",
    "ax5b.grid(True)\n",
    "\n",
    "temperature = fc_data['Temperature_K']\n",
    "# arbitrary correction for negative moment at high temperature\n",
    "M_c = 1.07*fc_data['Long_Moment_emu'].min()\n",
    "moment = fc_data['Long_Moment_emu'] - M_c\n",
    "\n",
    "applied_field = fc_data['Field_Oe'].mean()\n",
    "inv_susc = fc_data['Field_Oe']/moment\n",
    "ax5a.plot(temperature, moment, marker = '.', label = 'Corrected Moment')\n",
    "ax5b.plot(temperature, inv_susc, marker = '.', label = 'Inverse Susceptibility')\n",
    "\n",
    "\n",
    "\n",
    "# linear fit to high temperature data\n",
    "idx = temperature > 90\n",
    "m, c = np.polyfit(temperature[idx], inv_susc[idx], 1)\n",
    "T_C = -c/m\n",
    "cw = np.poly1d([m, c])\n",
    "ax5b.plot([T_C, temperature.max()], cw([T_C, temperature.max()]), label = 'Curie-Weiss fit')\n",
    "ax5a.legend()\n",
    "ax5b.legend()\n",
    "\n",
    "plt.tight_layout()\n",
    "\n",
    "print(f'Subtracting constant moment offset: {M_c:.3e} emu')\n",
    "print(f'T_C = {-c/m:.2f} K')\n",
    "print(f'N_Gd = {3*k_B/(mu_eff**2 * m)}')"
   ]
  },
  {
   "cell_type": "code",
   "execution_count": null,
   "id": "a6f9089a",
   "metadata": {},
   "outputs": [],
   "source": [
    "field = mh_data_5k['Field_Oe']\n",
    "moment = mh_data_5k['Long_Moment_emu']\n",
    "substrate_moment = substrate_susceptibility * substrate_volume * field\n",
    "corrected_moment = moment - substrate_moment\n",
    "fig6, ax6 = plt.subplots(1, 1)\n",
    "ax6.plot(field, cf*moment, marker = '.', label = 'Uncorrected')\n",
    "ax6.plot(field, cf*corrected_moment, marker = '.', label = 'Corrected')\n",
    "ax6.set_xlabel('Field (Oe)')\n",
    "ax6.set_ylabel(r'Magnetization ($\\mu_B$/Gd)')\n",
    "ax6.legend()\n",
    "ax6.grid(True)"
   ]
  },
  {
   "cell_type": "code",
   "execution_count": null,
   "id": "536f1447",
   "metadata": {},
   "outputs": [],
   "source": [
    "mh_data_files = sorted('data/A344/dat/' + fname\n",
    "                       for fname in os.listdir('data/A344/dat') \n",
    "                       if 'MH' in fname)"
   ]
  },
  {
   "cell_type": "code",
   "execution_count": null,
   "id": "943b93f7",
   "metadata": {},
   "outputs": [],
   "source": [
    "mh_data_files"
   ]
  },
  {
   "cell_type": "code",
   "execution_count": null,
   "id": "e49d7464",
   "metadata": {},
   "outputs": [],
   "source": [
    "fig7, ax7 = plt.subplots(1, 1)\n",
    "fig7.set_size_inches(8,6)\n",
    "ax7.grid()\n",
    "# Using matplotlib colormaps to colour lines depending on temperature \n",
    "cmap = plt.get_cmap('plasma')\n",
    "norm = mpl.colors.Normalize(vmin = 5, vmax = 90)\n",
    "for file in mh_data_files:\n",
    "    mh_data = np.genfromtxt(file,\n",
    "                    delimiter = ',', skip_header = 30, names = True)\n",
    "    temperature = round(mh_data['Temperature_K'].mean())\n",
    "    #mh_data = mh_data[mh_data.shape[0]//2:]\n",
    "    substrate_moment = substrate_susceptibility * substrate_volume * mh_data['Field_Oe']\n",
    "    ax7.plot(mh_data['Field_Oe'], cf*(mh_data['Long_Moment_emu'] - substrate_moment),\n",
    "             marker = '.', label = f'{temperature} K', color = cmap(norm(temperature)))\n",
    "ax7.set_xlabel('Field (Oe)')\n",
    "ax7.set_ylabel(r'Magnetization ($\\mu_B$/Gd)')\n",
    "ax7.set_xlim(-600, 600)\n",
    "ax7.legend(ncol = 2)"
   ]
  },
  {
   "cell_type": "code",
   "execution_count": null,
   "id": "232b427f",
   "metadata": {},
   "outputs": [],
   "source": [
    "# extracting coercivity, remanent magnetization\n",
    "# use average of measurements repeated at same field (already done in .ndat files)\n",
    "# 4 measurements done at each set field\n",
    "avg_field = mh_data_5k['Field_Oe'].reshape(-1, 4).mean(axis = 1)\n",
    "substrate_moment = substrate_susceptibility * substrate_volume * avg_field\n",
    "avg_mag = cf*(mh_data_5k['Long_Moment_emu'].reshape(-1, 4).mean(axis = 1) - substrate_moment)\n",
    "\n",
    "# separate field down/up splitting data halfway\n",
    "N = avg_field.shape[0]//2\n",
    "fig, ax = plt.subplots(1, 1)\n",
    "ax.plot(avg_field[:N], avg_mag[:N], marker = '.', c = 'C0', label = 'Decreasing Field')\n",
    "ax.plot(avg_field[N:], avg_mag[N:], marker = '.', c = 'C1', label = 'Increasing Field')\n",
    "ax.set_xlim(-600, 600)\n",
    "ax.set_xlabel('Field (Oe)')\n",
    "ax.set_ylabel(r'Magnetization ($\\mu_B$/Gd)')\n",
    "ax.grid()\n",
    "ax.legend()\n",
    "\n",
    "f_down = scipy.interpolate.interp1d(avg_field[:N], avg_mag[:N],\n",
    "                                    kind = 'cubic', fill_value = 'extrapolate')\n",
    "H_c = scipy.optimize.fsolve(f_down, 0)[0]\n",
    "M_r = f_down(0)\n",
    "ax.annotate(fr'$H_c$ = {H_c:.1f} Oe', (H_c, 0), xytext = (-500, 0),\n",
    "           arrowprops = {}, va = 'center')\n",
    "ax.annotate(fr'$M_r$ = {M_r:.1f} $\\mu_B$/Gd', (0, M_r), xytext = (0, 6.5),\n",
    "           arrowprops = {}, ha = 'center')\n",
    "\n",
    "f_up = scipy.interpolate.interp1d(avg_field[N:], avg_mag[N:],\n",
    "                                    kind = 'cubic', fill_value = 'extrapolate')\n",
    "H_c = scipy.optimize.fsolve(f_up, 0)[0]\n",
    "M_r = f_up(0)\n",
    "ax.annotate(fr'$H_c$ = {H_c:.1f} Oe', (H_c, 0), xytext = (250, 0),\n",
    "           arrowprops = {'facecolor': 'C1'}, va = 'center')\n",
    "ax.annotate(fr'$M_r$ = {M_r:.1f} $\\mu_B$/Gd', (0, M_r), xytext = (0, -7),\n",
    "           arrowprops = {'facecolor': 'C1'}, ha = 'center')"
   ]
  },
  {
   "cell_type": "code",
   "execution_count": null,
   "id": "1c85d164",
   "metadata": {},
   "outputs": [],
   "source": []
  }
 ],
 "metadata": {
  "kernelspec": {
   "display_name": "Python 3",
   "language": "python",
   "name": "python3"
  },
  "language_info": {
   "codemirror_mode": {
    "name": "ipython",
    "version": 3
   },
   "file_extension": ".py",
   "mimetype": "text/x-python",
   "name": "python",
   "nbconvert_exporter": "python",
   "pygments_lexer": "ipython3",
   "version": "3.9.0"
  }
 },
 "nbformat": 4,
 "nbformat_minor": 5
}
