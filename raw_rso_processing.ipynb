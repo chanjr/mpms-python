{
 "cells": [
  {
   "cell_type": "code",
   "execution_count": null,
   "id": "ba249836",
   "metadata": {},
   "outputs": [],
   "source": [
    "import os\n",
    "import numpy as np\n",
    "import matplotlib.pyplot as plt\n",
    "from matplotlib.widgets import Slider\n",
    "import lmfit\n",
    "import ilmfit # interactive plotting of lmfit models"
   ]
  },
  {
   "cell_type": "code",
   "execution_count": null,
   "id": "70e7ccf0",
   "metadata": {},
   "outputs": [],
   "source": [
    "# enable interactive figures in browser\n",
    "%matplotlib notebook "
   ]
  },
  {
   "cell_type": "code",
   "execution_count": null,
   "id": "33d623ee",
   "metadata": {
    "scrolled": true
   },
   "outputs": [],
   "source": [
    "sorted(os.listdir('data/A344/raw'))"
   ]
  },
  {
   "cell_type": "code",
   "execution_count": null,
   "id": "bb886068",
   "metadata": {
    "scrolled": false
   },
   "outputs": [],
   "source": [
    "fname = 'data/A344/raw/A344_GdN_FC_050_Oe_160908.rso.raw'\n",
    "raw_data_fc = np.genfromtxt(fname,\n",
    "                        delimiter = ',', names = True, skip_header = 30)\n",
    "raw_data_fc.dtype.names"
   ]
  },
  {
   "cell_type": "code",
   "execution_count": null,
   "id": "2d2b78fd",
   "metadata": {},
   "outputs": [],
   "source": [
    "# filter columns with no data\n",
    "used_columns = [c for c in raw_data_fc.dtype.names if ~np.all(np.isnan(raw_data_fc[c]))]\n",
    "raw_data_fc = raw_data_fc[used_columns]"
   ]
  },
  {
   "cell_type": "code",
   "execution_count": null,
   "id": "2350a8f1",
   "metadata": {},
   "outputs": [],
   "source": [
    "raw_data_fc.dtype.names"
   ]
  },
  {
   "cell_type": "code",
   "execution_count": null,
   "id": "39afaba4",
   "metadata": {},
   "outputs": [],
   "source": [
    "raw_data_fc.shape"
   ]
  },
  {
   "cell_type": "code",
   "execution_count": null,
   "id": "e0587e9a",
   "metadata": {},
   "outputs": [],
   "source": [
    "# calculate how many lines correspond to each rso scan\n",
    "n_pts = np.nonzero(np.diff(raw_data_fc['Time']))[0][0] + 1\n",
    "print(f'Number of points per scan: {n_pts}')"
   ]
  },
  {
   "cell_type": "code",
   "execution_count": null,
   "id": "01d2ed8c",
   "metadata": {},
   "outputs": [],
   "source": [
    "# reshape array so that first index corresponds to a whole scan\n",
    "raw_data_fc = raw_data_fc.reshape(-1, n_pts)"
   ]
  },
  {
   "cell_type": "code",
   "execution_count": null,
   "id": "45536054",
   "metadata": {},
   "outputs": [],
   "source": [
    "raw_data_fc['Position_cm'][0]"
   ]
  },
  {
   "cell_type": "code",
   "execution_count": null,
   "id": "1c757236",
   "metadata": {},
   "outputs": [],
   "source": [
    "#\n",
    "position = raw_data_fc['Position_cm']\n",
    "voltage = raw_data_fc['Long_Voltage']\n",
    "voltage_fit = raw_data_fc['Long_Reg_Fit']\n",
    "start_temperature = raw_data_fc['Start_Temperature_K'][:,0]\n",
    "field = raw_data_fc['Field_Oe'][:,0]\n",
    "\n",
    "# interactive plot to switch between scans in the raw data\n",
    "fig1, ax1 = plt.subplots()\n",
    "ax1.set_xlabel('Position (cm)')\n",
    "ax1.set_ylabel('Long voltage (V)')\n",
    "\n",
    "# make space for slider\n",
    "fig1.subplots_adjust(bottom = 0.25)\n",
    "\n",
    "# create a slider which can be used to change index of shown scan\n",
    "slider_ax1 = fig1.add_axes([0.15, 0.1, 0.75, 0.03])\n",
    "scan_slider1 = Slider(ax = slider_ax1, label = 'Scan #', valmin = 0, valmax = len(raw_data_fc), valstep = 1)\n",
    "raw_line1, = ax1.plot(position[0], voltage[0], label = 'Raw data', marker = '.')\n",
    "fit_line1, = ax1.plot(position[0], voltage_fit[0], label = 'MPMS Fit', marker = '.')\n",
    "ax1.set_title(f'Scan {0}, T = {start_temperature[0]:.1f} K, H = {field[0]:.1f} Oe')\n",
    "def update_1(n):\n",
    "    # update the data of each line to show the i\n",
    "    n = int(n)\n",
    "    raw_line1.set_data(position[n], voltage[n])\n",
    "    fit_line1.set_data(position[n], voltage_fit[n])\n",
    "    raw_line1.axes.set_title(f'Scan {n}, T = {start_temperature[n]:.1f} K, H = {field[n]:.1f} Oe')\n",
    "    raw_line1.axes.relim()\n",
    "    raw_line1.axes.autoscale_view()\n",
    "scan_slider1.on_changed(update_1)\n",
    "ax1.legend()"
   ]
  },
  {
   "cell_type": "code",
   "execution_count": null,
   "id": "465f901a",
   "metadata": {},
   "outputs": [],
   "source": [
    "# Get the scaling factor used by the MPMS\n",
    "# Ignore possible divisions by zero\n",
    "with np.errstate(divide = 'ignore', invalid = 'ignore'):\n",
    "    scale_factor = raw_data_fc['Long_Scaled_Response']/raw_data_fc['Long_Voltage']\n",
    "    scale_factor = np.nanmean(scale_factor, axis = 1).reshape(-1, 1)\n",
    "fig2, ax2 = plt.subplots()\n",
    "ax2.plot(scale_factor, marker = '.')\n",
    "ax2.set_xlabel('Scan number')\n",
    "ax2.set_ylabel('Scaling factor')"
   ]
  },
  {
   "cell_type": "code",
   "execution_count": null,
   "id": "df57c9bf",
   "metadata": {},
   "outputs": [],
   "source": [
    "#\n",
    "position = raw_data_fc['Position_cm']\n",
    "scaled_voltage = raw_data_fc['Long_Scaled_Response']\n",
    "voltage_fit = raw_data_fc['Long_Reg_Fit']\n",
    "scaled_fit = voltage_fit * scale_factor\n",
    "start_temperature = raw_data_fc['Start_Temperature_K'][:,0]\n",
    "field = raw_data_fc['Field_Oe'][:,0]\n",
    "\n",
    "# interactive plot to switch between scans in the raw data\n",
    "fig3, ax3 = plt.subplots()\n",
    "ax3.set_xlabel('Position (cm)')\n",
    "ax3.set_ylabel('Scaled voltage (V)')\n",
    "\n",
    "# make space for slider\n",
    "fig3.subplots_adjust(bottom = 0.25)\n",
    "\n",
    "# create a slider which can be used to change index of shown scan\n",
    "slider_ax2 = fig3.add_axes([0.15, 0.1, 0.75, 0.03])\n",
    "scan_slider2 = Slider(ax = slider_ax2, label = 'Scan #', valmin = 0, valmax = len(raw_data_fc), valstep = 1)\n",
    "raw_line2, = ax3.plot(position[0], scaled_voltage[0], label = 'Raw data', marker = '.')\n",
    "fit_line2, = ax3.plot(position[0], scaled_fit[0], label = 'MPMS Fit', marker = '.')\n",
    "ax3.set_title(f'Scan {0}, T = {start_temperature[0]:.1f} K, H = {field[0]:.1f} Oe')\n",
    "def update_2(n):\n",
    "    # update the data of each line to show the i\n",
    "    n = int(n)\n",
    "    raw_line2.set_data(position[n], scaled_voltage[n])\n",
    "    fit_line2.set_data(position[n], scaled_fit[n])\n",
    "    raw_line2.axes.set_title(f'Scan {n}, T = {start_temperature[n]:.1f} K, H = {field[n]:.1f} Oe')\n",
    "    raw_line2.axes.relim()\n",
    "    raw_line2.axes.autoscale_view()\n",
    "scan_slider2.on_changed(update_2)\n",
    "ax3.legend()"
   ]
  },
  {
   "cell_type": "code",
   "execution_count": null,
   "id": "12e5093d",
   "metadata": {},
   "outputs": [],
   "source": [
    "# Equation from https://www.qdusa.com/siteDocs/appNotes/1014-213.pdf\n",
    "# modified so x4 is positive center offset\n",
    "def rso_response(pos, x1 = 0, x2 = 0, x3 = 1e-4, x4 = 2.5):\n",
    "    R = 0.97\n",
    "    L = 1.519\n",
    "    v_i = np.linspace(0, 1, len(pos))                                          \n",
    "    X = R**2 + (pos - x4)**2                                                    \n",
    "    Y = R**2 + (L + (pos - x4))**2                                              \n",
    "    Z = R**2 + (-L + (pos - x4))**2                                            \n",
    "    return x1 + x2*v_i + x3*(2*X**(-3/2) - Y**(-3/2) - Z**(-3/2))"
   ]
  },
  {
   "cell_type": "code",
   "execution_count": null,
   "id": "6cc5edaf",
   "metadata": {},
   "outputs": [],
   "source": [
    "# making lmfit model from rso_response which can be used to fit data\n",
    "rso_model = lmfit.Model(rso_response)"
   ]
  },
  {
   "cell_type": "code",
   "execution_count": null,
   "id": "41a0274a",
   "metadata": {},
   "outputs": [],
   "source": [
    "# peak to peak magnitude used to define bounds for x1, x2, x3\n",
    "vp = raw_data_fc['Long_Scaled_Response'][0].ptp()\n",
    "scan_fitter = ilmfit.Ilmfit(rso_model,\n",
    "                   x = raw_data_fc['Position_cm'][0],\n",
    "                   y = raw_data_fc['Long_Scaled_Response'][0],\n",
    "                   bounds = {'x1': (-vp, vp), 'x2': (-vp, vp), 'x3': (-vp, vp), 'x4': (-1, 6)})"
   ]
  },
  {
   "cell_type": "code",
   "execution_count": null,
   "id": "efeac73d",
   "metadata": {},
   "outputs": [],
   "source": [
    "# fit scan with specified initial parameters\n",
    "scan_fitter.fit(x1 = 0, x2 = 0, x3 = 1e-5, x4 = 1)\n",
    "scan_fitter.res.params"
   ]
  },
  {
   "cell_type": "code",
   "execution_count": null,
   "id": "01c2979b",
   "metadata": {},
   "outputs": [],
   "source": [
    "# Check what parameters the MPMS fit resulted in\n",
    "vp = scaled_fit[0].ptp()\n",
    "mpms_fitter = ilmfit.Ilmfit(rso_model,\n",
    "                   x = position[0],\n",
    "                   y = scaled_fit[0],\n",
    "                   bounds = {'x1': (-vp, vp), 'x2': (-vp, vp), 'x3': (-vp, vp), 'x4': (-1, 6)})"
   ]
  },
  {
   "cell_type": "code",
   "execution_count": null,
   "id": "0af1450e",
   "metadata": {},
   "outputs": [],
   "source": [
    "mpms_fitter.fit(x1 = 0, x2 = 0, x3 = 0, x4 = 2.5)\n",
    "mpms_fitter.res.params"
   ]
  },
  {
   "cell_type": "code",
   "execution_count": null,
   "id": "441433ce",
   "metadata": {},
   "outputs": [],
   "source": [
    "# calculate x3-emu conversion factor using the mpms fit parameters and\n",
    "# originally saved .dat file\n",
    "fc_data = np.genfromtxt('data/A344/dat/A344_GdN_FC_050_Oe_160908.rso.dat',\n",
    "                        delimiter = ',', names = True, skip_header = 30)\n",
    "emu_conversion_factor = fc_data['Long_Moment_emu'][0]/mpms_fitter.res.params['x3'].value\n",
    "print(f'x3 to emu conversion factor: {emu_conversion_factor}')"
   ]
  },
  {
   "cell_type": "code",
   "execution_count": null,
   "id": "9cd1b0df",
   "metadata": {},
   "outputs": [],
   "source": [
    "# Example of scan with two clear dipole contributions with similar magnitudes\n",
    "x, y = position[47], scaled_voltage[47]\n",
    "vp = y.ptp()\n",
    "# can create composite models by adding together; need to have unique prefixes\n",
    "rso_model_n = lmfit.Model(rso_response, prefix = 'd1_') + lmfit.Model(rso_response, prefix = 'd2_')\n",
    "rso_model_n.set_param_hint('d2_x1', vary = False)\n",
    "rso_model_n.set_param_hint('d2_x2', vary = False)\n",
    "rso_model_n.set_param_hint('d1_x4', min = 0, max = 5)\n",
    "rso_model_n.set_param_hint('d2_x4', min = 0, max = 5)\n",
    "rso_model_n.set_param_hint('d1_moment', expr = '1.09589*d1_x3')\n",
    "rso_model_n.set_param_hint('d2_moment', expr = '1.09589*d2_x3')\n",
    "bounds = {k:(-vp, vp) for k in ['d1_x1', 'd1_x2', 'd1_x3', 'd2_x1', 'd2_x2', 'd2_x3']}\n",
    "scan_fitter_2 = ilmfit.Ilmfit(rso_model_n, x = x, y = y, bounds = bounds)"
   ]
  },
  {
   "cell_type": "code",
   "execution_count": null,
   "id": "3115186f",
   "metadata": {},
   "outputs": [],
   "source": [
    "scan_fitter_2.fit(d1_x4 = 1, d2_x4 = 2.5)\n",
    "scan_fitter_2.res.params"
   ]
  },
  {
   "cell_type": "code",
   "execution_count": null,
   "id": "36061e59",
   "metadata": {
    "scrolled": true
   },
   "outputs": [],
   "source": [
    "scan_fitter.res.params"
   ]
  },
  {
   "cell_type": "code",
   "execution_count": null,
   "id": "745042c7",
   "metadata": {},
   "outputs": [],
   "source": [
    "# fitting two dipole moments to each scan\n",
    "fits = []\n",
    "last_params = scan_fitter_2.res.params\n",
    "last_params['d1_x4'].set(min = 0.97, max = 1.01)\n",
    "last_params['d2_x4'].set(min = 2.49, max = 2.56)\n",
    "for i in range(len(raw_data_fc)):\n",
    "    res = rso_model_n.fit(scaled_voltage[i], pos = position[i], params = last_params)\n",
    "    fits.append(res)\n",
    "    last_params = res.params"
   ]
  },
  {
   "cell_type": "code",
   "execution_count": null,
   "id": "3b7f0ff3",
   "metadata": {},
   "outputs": [],
   "source": [
    "ilmfit.plot_res(fits[100])"
   ]
  },
  {
   "cell_type": "code",
   "execution_count": null,
   "id": "7dddd3df",
   "metadata": {},
   "outputs": [],
   "source": [
    "# subtracting high temperature offset dipole from each scan data\n",
    "fits2 = []\n",
    "model = lmfit.Model(rso_response, prefix = 'd1_')\n",
    "model.set_param_hint('moment', expr = '1.09589*d1_x3')\n",
    "last_params = model.make_params()\n",
    "last_params['d1_x4'].set(min = 2.52, max = 2.56)\n",
    "scan_fitter.fit(x1 = 1)\n",
    "for i in range(len(raw_data_fc)):\n",
    "    pos = position[i]\n",
    "    voltage_c = scaled_voltage[i] - scan_fitter.res.eval(pos = pos)\n",
    "    res = model.fit(voltage_c, pos = pos, params = last_params)\n",
    "    fits2.append(res)\n",
    "    last_params = res.params"
   ]
  },
  {
   "cell_type": "code",
   "execution_count": null,
   "id": "1a74c32c",
   "metadata": {},
   "outputs": [],
   "source": [
    "# overview of fitting parameters for each scan\n",
    "fig4, axes = plt.subplots(4, 2)\n",
    "for axi, p in zip(axes.T.flatten(), fits[0].params.keys()):\n",
    "    axi.set_ylabel(p)\n",
    "    axi.plot([f.params[p].value for f in fits])\n",
    "fig4.tight_layout()"
   ]
  },
  {
   "cell_type": "code",
   "execution_count": null,
   "id": "df7ca51d",
   "metadata": {},
   "outputs": [],
   "source": [
    "fig5, (ax5, ax5b) = plt.subplots(2, 1, sharex = True)\n",
    "fig5.set_size_inches(6, 6)\n",
    "temperature = fc_data['Temperature_K']\n",
    "moment_orig = fc_data['Long_Moment_emu']\n",
    "moment_refit = np.array([f.params['d2_moment'] for f in fits])\n",
    "moment_refit2 = np.array([f.params['d1_moment'] for f in fits2])\n",
    "ax5.plot(temperature, moment_orig, marker = '.', label = 'Original')\n",
    "ax5.plot(temperature, moment_refit, marker = '.', label = 'Refitted')\n",
    "ax5.plot(temperature, moment_refit2, marker = '.', label = 'Refitted 2')\n",
    "ax5b.plot(temperature, moment_orig - moment_refit, color = 'C1', marker = '.', label = r'$\\Delta$M')\n",
    "ax5b.plot(temperature, moment_orig - moment_refit2, color = 'C2', marker = '.', label = r'$\\Delta$M2')\n",
    "ax5b.set_xlabel('Temperature (K)')\n",
    "ax5.set_ylabel('Moment (emu)')\n",
    "ax5b.set_ylabel(r'$\\Delta$M (emu)')\n",
    "ax5.legend()\n",
    "ax5b.legend()\n",
    "fig5.tight_layout()"
   ]
  },
  {
   "cell_type": "code",
   "execution_count": null,
   "id": "d3989ab9",
   "metadata": {},
   "outputs": [],
   "source": [
    "# check linearity of inverse susceptibility\n",
    "fig6, ax6 = plt.subplots(1, 1)\n",
    "temperature = fc_data['Temperature_K']\n",
    "applied_field = fc_data['Field_Oe'][0]\n",
    "moment_refit = np.array([f.params['d2_moment'] for f in fits])\n",
    "moment_refit2 = np.array([f.params['d1_moment'] for f in fits2])\n",
    "ax6.plot(temperature, applied_field/moment_refit, marker = '.', label = 'Refitted')\n",
    "ax6.plot(temperature, applied_field/moment_refit2, marker = '.', label = 'Refitted 2')\n",
    "ax6.set_xlabel('Temperature (K)')\n",
    "ax6.set_ylabel('Inverse suscepbility (Oe/emu)')\n",
    "ax6.legend()\n",
    "fig6.tight_layout()"
   ]
  },
  {
   "cell_type": "code",
   "execution_count": null,
   "id": "8afd5340",
   "metadata": {},
   "outputs": [],
   "source": [
    "# curie weiss with correction for constant moment offset\n",
    "k_B = 1.380649e-16 # erg/K\n",
    "mu_b = 9.274009994e-21 # erg/G, emu\n",
    "# gd ion\n",
    "g = 2\n",
    "J = 7/2\n",
    "mu_eff = mu_b * g * np.sqrt(J*(J + 1))\n",
    "\n",
    "idx = temperature>90\n",
    "inv_susc = applied_field/(moment_refit + moment_refit2)*2\n",
    "m, c = np.polyfit(temperature[idx], inv_susc[idx], 1)\n",
    "print(f'T_C = {-c/m:.2f} K')\n",
    "print(f'N_Gd = {3*k_B/(mu_eff**2 * m)}')"
   ]
  },
  {
   "cell_type": "code",
   "execution_count": null,
   "id": "ff4c31b6",
   "metadata": {},
   "outputs": [],
   "source": []
  }
 ],
 "metadata": {
  "kernelspec": {
   "display_name": "dataplot",
   "language": "python",
   "name": "dataplot"
  },
  "language_info": {
   "codemirror_mode": {
    "name": "ipython",
    "version": 3
   },
   "file_extension": ".py",
   "mimetype": "text/x-python",
   "name": "python",
   "nbconvert_exporter": "python",
   "pygments_lexer": "ipython3",
   "version": "3.8.5"
  }
 },
 "nbformat": 4,
 "nbformat_minor": 5
}
